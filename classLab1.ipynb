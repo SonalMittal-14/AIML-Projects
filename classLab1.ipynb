{
 "cells": [
  {
   "cell_type": "markdown",
   "metadata": {},
   "source": [
    "PROBLEM STATEMENT -> Write a Python program that utilizes the scikit-learn library to perform several tasks on the Iris and Breast Cancer datasets. First, fetch both datasets and display their classes (target labels) and attributes (features). Next, split each dataset into training and testing sets to prepare for model evaluation. Implement a Gaussian Naive Bayes classifier, training it on the training set and evaluating its accuracy on the testing set. Print the accuracy of the model for each dataset. Finally, apply Lasso regression to perform feature selection and shrinkage, thereby identifying the most significant features in the datasets."
   ]
  },
  {
   "cell_type": "markdown",
   "metadata": {},
   "source": [
    "Importing the required Libraries"
   ]
  },
  {
   "cell_type": "code",
   "execution_count": 1,
   "metadata": {},
   "outputs": [],
   "source": [
    "from sklearn.datasets import load_iris, load_breast_cancer\n",
    "from sklearn.model_selection import train_test_split\n",
    "from sklearn.naive_bayes import GaussianNB\n",
    "from sklearn.metrics import accuracy_score"
   ]
  },
  {
   "cell_type": "markdown",
   "metadata": {},
   "source": [
    "Loading the Iris Dataset from sklearn Library"
   ]
  },
  {
   "cell_type": "code",
   "execution_count": 2,
   "metadata": {},
   "outputs": [],
   "source": [
    "iris = load_iris()\n",
    "iris_data, iris_target = iris.data, iris.target"
   ]
  },
  {
   "cell_type": "code",
   "execution_count": 3,
   "metadata": {},
   "outputs": [
    {
     "name": "stdout",
     "output_type": "stream",
     "text": [
      "Iris Dataset:\n",
      "Attributes: ['sepal length (cm)', 'sepal width (cm)', 'petal length (cm)', 'petal width (cm)']\n",
      "Classes: ['setosa' 'versicolor' 'virginica']\n"
     ]
    }
   ],
   "source": [
    "print(\"Iris Dataset:\")\n",
    "print(\"Attributes:\", iris.feature_names)\n",
    "print(\"Classes:\", iris.target_names)"
   ]
  },
  {
   "cell_type": "markdown",
   "metadata": {},
   "source": [
    "Splitting the Iris dataset into training and testing sets"
   ]
  },
  {
   "cell_type": "code",
   "execution_count": 4,
   "metadata": {},
   "outputs": [],
   "source": [
    "iris_X_train, iris_X_test, iris_y_train, iris_y_test = train_test_split(\n",
    "    iris_data, iris_target, test_size=0.3, random_state=42\n",
    ")\n"
   ]
  },
  {
   "cell_type": "markdown",
   "metadata": {},
   "source": [
    "Loading the Breast Cancer dataset"
   ]
  },
  {
   "cell_type": "code",
   "execution_count": 5,
   "metadata": {},
   "outputs": [],
   "source": [
    "breast_cancer = load_breast_cancer()\n",
    "bc_data, bc_target = breast_cancer.data, breast_cancer.target\n"
   ]
  },
  {
   "cell_type": "code",
   "execution_count": 6,
   "metadata": {},
   "outputs": [
    {
     "name": "stdout",
     "output_type": "stream",
     "text": [
      "\n",
      "Breast Cancer Dataset:\n",
      "Attributes: ['mean radius' 'mean texture' 'mean perimeter' 'mean area'\n",
      " 'mean smoothness' 'mean compactness' 'mean concavity'\n",
      " 'mean concave points' 'mean symmetry' 'mean fractal dimension'\n",
      " 'radius error' 'texture error' 'perimeter error' 'area error'\n",
      " 'smoothness error' 'compactness error' 'concavity error'\n",
      " 'concave points error' 'symmetry error' 'fractal dimension error'\n",
      " 'worst radius' 'worst texture' 'worst perimeter' 'worst area'\n",
      " 'worst smoothness' 'worst compactness' 'worst concavity'\n",
      " 'worst concave points' 'worst symmetry' 'worst fractal dimension']\n",
      "Classes: ['malignant' 'benign']\n"
     ]
    }
   ],
   "source": [
    "print(\"\\nBreast Cancer Dataset:\")\n",
    "print(\"Attributes:\", breast_cancer.feature_names)\n",
    "print(\"Classes:\", breast_cancer.target_names)\n"
   ]
  },
  {
   "cell_type": "markdown",
   "metadata": {},
   "source": [
    "Splitting the Breast Cancer dataset into training and testing sets"
   ]
  },
  {
   "cell_type": "code",
   "execution_count": 7,
   "metadata": {},
   "outputs": [],
   "source": [
    "bc_X_train, bc_X_test, bc_y_train, bc_y_test = train_test_split(\n",
    "    bc_data, bc_target, test_size=0.3, random_state=42\n",
    ")\n"
   ]
  },
  {
   "cell_type": "markdown",
   "metadata": {},
   "source": [
    "Apply Gaussian Naive Bayes classifier to the Iris dataset"
   ]
  },
  {
   "cell_type": "code",
   "execution_count": 8,
   "metadata": {},
   "outputs": [
    {
     "name": "stdout",
     "output_type": "stream",
     "text": [
      "\n",
      "Iris Dataset Accuracy: 97.78%\n"
     ]
    }
   ],
   "source": [
    "gnb_iris = GaussianNB()\n",
    "gnb_iris.fit(iris_X_train, iris_y_train)\n",
    "iris_y_pred = gnb_iris.predict(iris_X_test)\n",
    "iris_accuracy = accuracy_score(iris_y_test, iris_y_pred)\n",
    "print(\"\\nIris Dataset Accuracy: {:.2f}%\".format(iris_accuracy * 100))\n"
   ]
  },
  {
   "cell_type": "markdown",
   "metadata": {},
   "source": [
    "Apply Gaussian Naive Bayes classifier to the Breast Cancer dataset"
   ]
  },
  {
   "cell_type": "code",
   "execution_count": 9,
   "metadata": {},
   "outputs": [
    {
     "name": "stdout",
     "output_type": "stream",
     "text": [
      "Breast Cancer Dataset Accuracy: 94.15%\n"
     ]
    }
   ],
   "source": [
    "gnb_bc = GaussianNB()\n",
    "gnb_bc.fit(bc_X_train, bc_y_train)\n",
    "bc_y_pred = gnb_bc.predict(bc_X_test)\n",
    "bc_accuracy = accuracy_score(bc_y_test, bc_y_pred)\n",
    "print(\"Breast Cancer Dataset Accuracy: {:.2f}%\".format(bc_accuracy * 100))\n"
   ]
  },
  {
   "cell_type": "markdown",
   "metadata": {},
   "source": [
    "Importing Libraries for applying Lasso"
   ]
  },
  {
   "cell_type": "code",
   "execution_count": 10,
   "metadata": {},
   "outputs": [],
   "source": [
    "from sklearn.linear_model import Lasso\n",
    "from sklearn.preprocessing import StandardScaler"
   ]
  },
  {
   "cell_type": "markdown",
   "metadata": {},
   "source": [
    "Function to apply Lasso for feature selection"
   ]
  },
  {
   "cell_type": "code",
   "execution_count": 11,
   "metadata": {},
   "outputs": [],
   "source": [
    "def select_features_with_lasso(X_train, X_test, y_train, alpha=0.01):\n",
    "    scaler = StandardScaler()\n",
    "    X_train_scaled = scaler.fit_transform(X_train)\n",
    "    X_test_scaled = scaler.transform(X_test)\n",
    "    \n",
    "    lasso = Lasso(alpha=alpha)\n",
    "    lasso.fit(X_train_scaled, y_train)\n",
    "    \n",
    "    # Select features where coefficients are non-zero\n",
    "    important_features = lasso.coef_ != 0\n",
    "    \n",
    "    X_train_selected = X_train[:, important_features]\n",
    "    X_test_selected = X_test[:, important_features]\n",
    "    \n",
    "    return X_train_selected, X_test_selected"
   ]
  },
  {
   "cell_type": "markdown",
   "metadata": {},
   "source": [
    "Apply Lasso for feature selection on the Iris dataset"
   ]
  },
  {
   "cell_type": "code",
   "execution_count": 12,
   "metadata": {},
   "outputs": [],
   "source": [
    "iris_X_train_selected, iris_X_test_selected = select_features_with_lasso(iris_X_train, iris_X_test, iris_y_train)"
   ]
  },
  {
   "cell_type": "code",
   "execution_count": 14,
   "metadata": {},
   "outputs": [
    {
     "name": "stdout",
     "output_type": "stream",
     "text": [
      "\n",
      "Iris Dataset Accuracy after Lasso feature selection: 97.78%\n"
     ]
    }
   ],
   "source": [
    "gnb_iris = GaussianNB()\n",
    "gnb_iris.fit(iris_X_train_selected, iris_y_train)\n",
    "iris_y_pred = gnb_iris.predict(iris_X_test_selected)\n",
    "iris_accuracy = accuracy_score(iris_y_test, iris_y_pred)\n",
    "print(\"\\nIris Dataset Accuracy after Lasso feature selection: {:.2f}%\".format(iris_accuracy * 100))"
   ]
  },
  {
   "cell_type": "markdown",
   "metadata": {},
   "source": [
    "Apply Lasso for feature selection on the Breast Cancer dataset"
   ]
  },
  {
   "cell_type": "code",
   "execution_count": 15,
   "metadata": {},
   "outputs": [],
   "source": [
    "bc_X_train_selected, bc_X_test_selected = select_features_with_lasso(bc_X_train, bc_X_test, bc_y_train)"
   ]
  },
  {
   "cell_type": "markdown",
   "metadata": {},
   "source": [
    "Apply Gaussian Naive Bayes classifier to the selected Breast Cancer dataset"
   ]
  },
  {
   "cell_type": "code",
   "execution_count": 16,
   "metadata": {},
   "outputs": [
    {
     "name": "stdout",
     "output_type": "stream",
     "text": [
      "Breast Cancer Dataset Accuracy after Lasso feature selection: 92.98%\n"
     ]
    }
   ],
   "source": [
    "gnb_bc = GaussianNB()\n",
    "gnb_bc.fit(bc_X_train_selected, bc_y_train)\n",
    "bc_y_pred = gnb_bc.predict(bc_X_test_selected)\n",
    "bc_accuracy = accuracy_score(bc_y_test, bc_y_pred)\n",
    "print(\"Breast Cancer Dataset Accuracy after Lasso feature selection: {:.2f}%\".format(bc_accuracy * 100))\n"
   ]
  },
  {
   "cell_type": "markdown",
   "metadata": {},
   "source": [
    "Hence Done\n"
   ]
  },
  {
   "cell_type": "code",
   "execution_count": 1,
   "metadata": {},
   "outputs": [],
   "source": [
    "# hence done\n"
   ]
  },
  {
   "cell_type": "code",
   "execution_count": null,
   "metadata": {},
   "outputs": [],
   "source": []
  }
 ],
 "metadata": {
  "kernelspec": {
   "display_name": "Python 3",
   "language": "python",
   "name": "python3"
  },
  "language_info": {
   "codemirror_mode": {
    "name": "ipython",
    "version": 3
   },
   "file_extension": ".py",
   "mimetype": "text/x-python",
   "name": "python",
   "nbconvert_exporter": "python",
   "pygments_lexer": "ipython3",
   "version": "3.10.1"
  }
 },
 "nbformat": 4,
 "nbformat_minor": 2
}
